{
 "cells": [
  {
   "cell_type": "code",
   "execution_count": 1,
   "metadata": {
    "collapsed": true
   },
   "outputs": [],
   "source": [
    "# Dependencies\n",
    "import json\n",
    "from pprint import pprint\n",
    "from datetime import datetime as dt\n",
    "import pandas as pd\n",
    "import numpy as np\n",
    "import matplotlib.pyplot as plt\n",
    "import tweepy\n",
    "from vaderSentiment.vaderSentiment import SentimentIntensityAnalyzer\n",
    "from config import (consumer_key, consumer_secret,\n",
    "                    access_token, access_token_secret)"
   ]
  },
  {
   "cell_type": "code",
   "execution_count": 2,
   "metadata": {
    "collapsed": true
   },
   "outputs": [],
   "source": [
    "# Setup Tweepy API Authentication\n",
    "auth = tweepy.OAuthHandler(consumer_key, consumer_secret)\n",
    "auth.set_access_token(access_token, access_token_secret)\n",
    "api = tweepy.API(auth, parser=tweepy.parsers.JSONParser())\n",
    "\n",
    "# Initialize Sentiment Analyzer\n",
    "analyzer = SentimentIntensityAnalyzer()"
   ]
  },
  {
   "cell_type": "code",
   "execution_count": 8,
   "metadata": {},
   "outputs": [
    {
     "name": "stdout",
     "output_type": "stream",
     "text": [
      "Ethiopian soldiers accidentally killed 9 civilians and injured 12 others in a military operation targeting insurgen… https://t.co/0fnlNDzdLX\n",
      "Elon Musk says his Mars rocket will fly \"short flights\" next year https://t.co/rGLLBpLovB https://t.co/BRg9lYnoS5\n",
      "The northeastern United States is bracing for its third significant winter storm in less than two weeks, with the p… https://t.co/OHf0hILIvW\n",
      "Five people have now died after the helicopter they were passengers on went down on Sunday evening in New York's Ea… https://t.co/CdF9nj9SA8\n",
      "Media reports suggest UK government is close to finalizing retaliatory measures, including diplomatic expulsions an… https://t.co/wNIdwPhB45\n",
      "The US House of Representatives is set to vote this week on a bill to give money for more security at schools, as t… https://t.co/F8SJOLf7OK\n",
      "Russia's Defense Ministry says it has successfully tested one of the \"invincible\" missiles that President Vladimir… https://t.co/MOeIElY4gO\n",
      "President Xi Jinping's power knows no bounds, writes Samantha Vinograd for @CNNOpinion https://t.co/WTsENl1SH7 https://t.co/tWlL3lu4DO\n",
      "\"I think there's a bunch of guys waiting for this to be over. It's never going to be over.\" \n",
      "\n",
      "#TimesUp co-founder N… https://t.co/nElZn1eID1\n",
      "“Anywhere else my Great Hall would be a decent sized home, and my Great Staircase would be a mini tower block.”… https://t.co/PutUhFxV7X\n",
      "After almost 32 years, a police executive welcomes an arrest in the death of her sister https://t.co/xY6B5Tq75F https://t.co/1d4zXQvdos\n",
      "Russian President Vladimir Putin \"couldn't care less\" if Russian citizens meddled in the 2016 US election… https://t.co/Lewyec1WMn\n",
      "Marine Le Pen, leader of France's far-right National Front, thinks it's time for the party to rebrand after her fai… https://t.co/JAQBkhB2cC\n",
      "The trouble with President Trump's North Korea gambit https://t.co/tT3uQ5DjX9 (via @CNNOpinion) https://t.co/dUi0NqzHLz\n",
      "South Korean officials will meet China's Xi Jinping on Monday, as part of an effort to bring jittery regional power… https://t.co/iUoFzaaS9w\n",
      "India by train -- with dogs? One couple shares their story https://t.co/6SGoucHiCg via @CNNTravel https://t.co/PudINg7byp\n",
      "\"I want white men to look around in their office and say, 'Oh look, there's a lot of white men here. Let's change t… https://t.co/re1dVKA9dp\n",
      "President Trump's speech at a rally in support of Pennsylvania state Rep. Rick Saccone proves why he is the GOP's w… https://t.co/DFblDfVNza\n",
      "The 64 most outrageous lines from US President Trump's untethered Pennsylvania speech https://t.co/YY4DCphOHO https://t.co/GHIkgNS15G\n",
      "When tragedy struck, athletes stepped up for a Florida high school https://t.co/ec1JHh6bpF https://t.co/chZzUcxqHE\n",
      "President Trump says South Korean President Moon Jae-in credited him with the success of the 2018 Winter Olympic Ga… https://t.co/Zbmh7LnKrJ\n",
      "Hong Kong's pro-democracy camp has endured a setback in crucial by-elections as fears grow that Beijing is tighteni… https://t.co/70z09CBmu7\n",
      "Socialism with Chinese characteristics? Beijing's propaganda explained https://t.co/diFchMooCV https://t.co/KCnPrBoIIk\n",
      "CNN Exclusive: The more opioids doctors prescribe, the more money they make https://t.co/V8iIADerxP https://t.co/EJ1r0J37QF\n",
      "Customers of a restaurant and a pub in the UK have been urged to wash their clothes as a precaution after traces of… https://t.co/EIruohNPhO\n",
      "President Trump says his 2020 slogan will be \"Keep America Great!\" https://t.co/xZCKakQ1E1 https://t.co/W3BYxXkokH\n",
      "The trouble with US President Trump's North Korea gambit https://t.co/nmkmJNapi4 (via @CNNOpinion) https://t.co/v9cMhyIk59\n",
      "President Trump insults NBC News anchor Chuck Todd again https://t.co/jgIVbQb7g6 https://t.co/2z6kDLutxF\n",
      "“Anywhere else my Great Hall would be a decent sized home, and my Great Staircase would be a mini tower block.” \n",
      "\n",
      "C… https://t.co/LG1j9ka1Zb\n",
      "Uber executive says white men need to \"make noise\" about diversity https://t.co/ZjRsf2HfZX https://t.co/AeFouPLbn5\n",
      "A knife-wielding man was shot dead outside the Iranian ambassador's residence in Vienna on Sunday night, following… https://t.co/0CsYK3wJA4\n",
      "What's behind the stamina of Russian President Vladimir Putin? The 65-year-old is now contesting his fourth preside… https://t.co/S3KQcNSLQb\n",
      "For porn star Stormy Daniels, controversy blows up into a club scene bonanza https://t.co/AtbT5RWTkQ https://t.co/gsP2zuf49u\n",
      "The mayor of Kansas City says he hasn't \"shed a tear\" over not making the cut to host Amazon's new second headquart… https://t.co/nHbMd2nOpM\n",
      "\"I just want to reiterate it would be very unwise for them to use weaponized gas.\" \n",
      "\n",
      "US Defense Secretary James Mat… https://t.co/BiCZaX8dmc\n",
      "Democratic Sen. Kamala Harris urges activists in Nevada to \"go in fighting\" https://t.co/EiVaZa1Y6Q https://t.co/0DsYHu4ZRI\n",
      "Ethiopian soldiers accidentally killed 9 civilians and injured 12 others in a military operation targeting insurgen… https://t.co/sUHibkEj1V\n",
      "GOP touts women in Trump cabinet — but the number lags behind Obama, Clinton https://t.co/TQJUnqoyZ1 https://t.co/YNmFBRbIlc\n",
      "India by train -- with dogs? One couple shares their story https://t.co/nOZjYzw2jh via @CNNTravel https://t.co/qVJH7Cqdy5\n",
      "Gunman at California veterans' home \"wanted to get back at them\" but \"not kill\" https://t.co/sPmjx2ZUhy https://t.co/Ye1xjkYNOF\n",
      "\"I think there's a bunch of guys waiting for this to be over. It's never going to be over.\" \n",
      "\n",
      "#TimesUp co-founder N… https://t.co/VoFG37bK4f\n",
      "For porn star Stormy Daniels, controversy blows up into a club scene bonanza https://t.co/a0SKoZVEXC https://t.co/YYQZaM2GoT\n",
      "China's largely ceremonial parliament overwhelmingly endorsed a controversial change to the country's constitution,… https://t.co/R4Z5ID7lJv\n",
      "\"I want white men to look around in their office and say, 'Oh look, there's a lot of white men here. Let's change t… https://t.co/cFgM6nYxtZ\n",
      "Marine Le Pen, leader of France's far-right National Front, thinks it's time for the party to rebrand after her fai… https://t.co/oZkVKgWwjJ\n",
      "The one crime that impacts every American https://t.co/5MWba3fSkF (via @CNNOpinion) https://t.co/LEtyQ1QDPv\n",
      "Russia's Defense Ministry says it has successfully tested one of the \"invincible\" missiles that President Vladimir… https://t.co/SYwyfd1dKo\n",
      "China's commerce minister says there would be no winner in any trade war between China and the United States, but t… https://t.co/Q6AHePo3DI\n",
      "Russian President Vladimir Putin \"couldn't care less\" if Russian citizens meddled in the 2016 US election… https://t.co/DVllKFcJc3\n",
      "At least two people have been killed and one rescued after a helicopter went down in New York's East River https://t.co/L5dd7QQerY\n"
     ]
    }
   ],
   "source": [
    "target_user = 'CNN'\n",
    "\n",
    "# Tweet Texts\n",
    "tweet_texts = []\n",
    "\n",
    "public_tweets = api.user_timeline(target_user, count=50)\n",
    "\n",
    "# Loop through all tweets\n",
    "for tweet in public_tweets:\n",
    "\n",
    "    # Print Tweet\n",
    "    print(tweet[\"text\"])\n",
    "\n",
    "    # Store Tweet in Array\n",
    "    tweet_texts.append(tweet[\"text\"])"
   ]
  },
  {
   "cell_type": "code",
   "execution_count": 9,
   "metadata": {},
   "outputs": [
    {
     "name": "stdout",
     "output_type": "stream",
     "text": [
      "Tweet Count: 50\n"
     ]
    }
   ],
   "source": [
    "# Print the Tweet Count\n",
    "print(f\"Tweet Count: {len(tweet_texts)}\")"
   ]
  }
 ],
 "metadata": {
  "kernelspec": {
   "display_name": "Python [conda env:PythonData]",
   "language": "python",
   "name": "conda-env-PythonData-py"
  },
  "language_info": {
   "codemirror_mode": {
    "name": "ipython",
    "version": 3
   },
   "file_extension": ".py",
   "mimetype": "text/x-python",
   "name": "python",
   "nbconvert_exporter": "python",
   "pygments_lexer": "ipython3",
   "version": "3.6.3"
  }
 },
 "nbformat": 4,
 "nbformat_minor": 2
}
